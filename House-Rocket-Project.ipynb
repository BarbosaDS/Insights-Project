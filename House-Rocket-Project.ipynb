{
 "cells": [
  {
   "cell_type": "markdown",
   "id": "163839e3",
   "metadata": {},
   "source": [
    "# House Rocket Project"
   ]
  },
  {
   "cell_type": "markdown",
   "id": "b904ee08",
   "metadata": {},
   "source": [
    "## 1. Bibliotecas"
   ]
  },
  {
   "cell_type": "code",
   "execution_count": 34,
   "id": "754ee9ea",
   "metadata": {
    "ExecuteTime": {
     "end_time": "2022-02-15T23:28:39.572462Z",
     "start_time": "2022-02-15T23:28:39.557503Z"
    }
   },
   "outputs": [],
   "source": [
    "import pandas as pd\n",
    "import numpy as np\n",
    "from matplotlib import pyplot as plt\n",
    "import seaborn as sns"
   ]
  },
  {
   "cell_type": "markdown",
   "id": "cbe8c826",
   "metadata": {
    "ExecuteTime": {
     "end_time": "2022-02-11T09:14:09.365172Z",
     "start_time": "2022-02-11T09:14:09.351231Z"
    },
    "heading_collapsed": true
   },
   "source": [
    "## 2. Dados/Funções"
   ]
  },
  {
   "cell_type": "markdown",
   "id": "58f9d755",
   "metadata": {},
   "source": [
    "## 2.1. Importação de Dados para projeto"
   ]
  },
  {
   "cell_type": "code",
   "execution_count": 35,
   "id": "40edf8c8",
   "metadata": {
    "ExecuteTime": {
     "end_time": "2022-02-15T23:28:42.245767Z",
     "start_time": "2022-02-15T23:28:42.179893Z"
    }
   },
   "outputs": [],
   "source": [
    "data = pd.read_csv('kc_house_data.csv')"
   ]
  },
  {
   "cell_type": "markdown",
   "id": "07cf37d3",
   "metadata": {},
   "source": [
    "## 2.3 Visualização e transformação de Dados"
   ]
  },
  {
   "cell_type": "code",
   "execution_count": 36,
   "id": "d2b560cf",
   "metadata": {
    "ExecuteTime": {
     "end_time": "2022-02-15T23:28:44.459004Z",
     "start_time": "2022-02-15T23:28:44.435976Z"
    }
   },
   "outputs": [
    {
     "data": {
      "text/html": [
       "<div>\n",
       "<style scoped>\n",
       "    .dataframe tbody tr th:only-of-type {\n",
       "        vertical-align: middle;\n",
       "    }\n",
       "\n",
       "    .dataframe tbody tr th {\n",
       "        vertical-align: top;\n",
       "    }\n",
       "\n",
       "    .dataframe thead th {\n",
       "        text-align: right;\n",
       "    }\n",
       "</style>\n",
       "<table border=\"1\" class=\"dataframe\">\n",
       "  <thead>\n",
       "    <tr style=\"text-align: right;\">\n",
       "      <th></th>\n",
       "      <th>id</th>\n",
       "      <th>date</th>\n",
       "      <th>price</th>\n",
       "      <th>bedrooms</th>\n",
       "      <th>bathrooms</th>\n",
       "      <th>sqft_living</th>\n",
       "      <th>sqft_lot</th>\n",
       "      <th>floors</th>\n",
       "      <th>waterfront</th>\n",
       "      <th>view</th>\n",
       "      <th>...</th>\n",
       "      <th>grade</th>\n",
       "      <th>sqft_above</th>\n",
       "      <th>sqft_basement</th>\n",
       "      <th>yr_built</th>\n",
       "      <th>yr_renovated</th>\n",
       "      <th>zipcode</th>\n",
       "      <th>lat</th>\n",
       "      <th>long</th>\n",
       "      <th>sqft_living15</th>\n",
       "      <th>sqft_lot15</th>\n",
       "    </tr>\n",
       "  </thead>\n",
       "  <tbody>\n",
       "    <tr>\n",
       "      <th>0</th>\n",
       "      <td>7129300520</td>\n",
       "      <td>20141013T000000</td>\n",
       "      <td>221900.0</td>\n",
       "      <td>3</td>\n",
       "      <td>1.00</td>\n",
       "      <td>1180</td>\n",
       "      <td>5650</td>\n",
       "      <td>1.0</td>\n",
       "      <td>0</td>\n",
       "      <td>0</td>\n",
       "      <td>...</td>\n",
       "      <td>7</td>\n",
       "      <td>1180.0</td>\n",
       "      <td>0</td>\n",
       "      <td>1955</td>\n",
       "      <td>0</td>\n",
       "      <td>98178</td>\n",
       "      <td>47.5112</td>\n",
       "      <td>-122.257</td>\n",
       "      <td>1340</td>\n",
       "      <td>5650</td>\n",
       "    </tr>\n",
       "    <tr>\n",
       "      <th>1</th>\n",
       "      <td>6414100192</td>\n",
       "      <td>20141209T000000</td>\n",
       "      <td>538000.0</td>\n",
       "      <td>3</td>\n",
       "      <td>2.25</td>\n",
       "      <td>2570</td>\n",
       "      <td>7242</td>\n",
       "      <td>2.0</td>\n",
       "      <td>0</td>\n",
       "      <td>0</td>\n",
       "      <td>...</td>\n",
       "      <td>7</td>\n",
       "      <td>2170.0</td>\n",
       "      <td>400</td>\n",
       "      <td>1951</td>\n",
       "      <td>1991</td>\n",
       "      <td>98125</td>\n",
       "      <td>47.7210</td>\n",
       "      <td>-122.319</td>\n",
       "      <td>1690</td>\n",
       "      <td>7639</td>\n",
       "    </tr>\n",
       "    <tr>\n",
       "      <th>2</th>\n",
       "      <td>5631500400</td>\n",
       "      <td>20150225T000000</td>\n",
       "      <td>180000.0</td>\n",
       "      <td>2</td>\n",
       "      <td>1.00</td>\n",
       "      <td>770</td>\n",
       "      <td>10000</td>\n",
       "      <td>1.0</td>\n",
       "      <td>0</td>\n",
       "      <td>0</td>\n",
       "      <td>...</td>\n",
       "      <td>6</td>\n",
       "      <td>770.0</td>\n",
       "      <td>0</td>\n",
       "      <td>1933</td>\n",
       "      <td>0</td>\n",
       "      <td>98028</td>\n",
       "      <td>47.7379</td>\n",
       "      <td>-122.233</td>\n",
       "      <td>2720</td>\n",
       "      <td>8062</td>\n",
       "    </tr>\n",
       "    <tr>\n",
       "      <th>3</th>\n",
       "      <td>2487200875</td>\n",
       "      <td>20141209T000000</td>\n",
       "      <td>604000.0</td>\n",
       "      <td>4</td>\n",
       "      <td>3.00</td>\n",
       "      <td>1960</td>\n",
       "      <td>5000</td>\n",
       "      <td>1.0</td>\n",
       "      <td>0</td>\n",
       "      <td>0</td>\n",
       "      <td>...</td>\n",
       "      <td>7</td>\n",
       "      <td>1050.0</td>\n",
       "      <td>910</td>\n",
       "      <td>1965</td>\n",
       "      <td>0</td>\n",
       "      <td>98136</td>\n",
       "      <td>47.5208</td>\n",
       "      <td>-122.393</td>\n",
       "      <td>1360</td>\n",
       "      <td>5000</td>\n",
       "    </tr>\n",
       "    <tr>\n",
       "      <th>4</th>\n",
       "      <td>1954400510</td>\n",
       "      <td>20150218T000000</td>\n",
       "      <td>510000.0</td>\n",
       "      <td>3</td>\n",
       "      <td>2.00</td>\n",
       "      <td>1680</td>\n",
       "      <td>8080</td>\n",
       "      <td>1.0</td>\n",
       "      <td>0</td>\n",
       "      <td>0</td>\n",
       "      <td>...</td>\n",
       "      <td>8</td>\n",
       "      <td>1680.0</td>\n",
       "      <td>0</td>\n",
       "      <td>1987</td>\n",
       "      <td>0</td>\n",
       "      <td>98074</td>\n",
       "      <td>47.6168</td>\n",
       "      <td>-122.045</td>\n",
       "      <td>1800</td>\n",
       "      <td>7503</td>\n",
       "    </tr>\n",
       "  </tbody>\n",
       "</table>\n",
       "<p>5 rows × 21 columns</p>\n",
       "</div>"
      ],
      "text/plain": [
       "           id             date     price  bedrooms  bathrooms  sqft_living  \\\n",
       "0  7129300520  20141013T000000  221900.0         3       1.00         1180   \n",
       "1  6414100192  20141209T000000  538000.0         3       2.25         2570   \n",
       "2  5631500400  20150225T000000  180000.0         2       1.00          770   \n",
       "3  2487200875  20141209T000000  604000.0         4       3.00         1960   \n",
       "4  1954400510  20150218T000000  510000.0         3       2.00         1680   \n",
       "\n",
       "   sqft_lot  floors  waterfront  view  ...  grade  sqft_above  sqft_basement  \\\n",
       "0      5650     1.0           0     0  ...      7      1180.0              0   \n",
       "1      7242     2.0           0     0  ...      7      2170.0            400   \n",
       "2     10000     1.0           0     0  ...      6       770.0              0   \n",
       "3      5000     1.0           0     0  ...      7      1050.0            910   \n",
       "4      8080     1.0           0     0  ...      8      1680.0              0   \n",
       "\n",
       "   yr_built  yr_renovated  zipcode      lat     long  sqft_living15  \\\n",
       "0      1955             0    98178  47.5112 -122.257           1340   \n",
       "1      1951          1991    98125  47.7210 -122.319           1690   \n",
       "2      1933             0    98028  47.7379 -122.233           2720   \n",
       "3      1965             0    98136  47.5208 -122.393           1360   \n",
       "4      1987             0    98074  47.6168 -122.045           1800   \n",
       "\n",
       "   sqft_lot15  \n",
       "0        5650  \n",
       "1        7639  \n",
       "2        8062  \n",
       "3        5000  \n",
       "4        7503  \n",
       "\n",
       "[5 rows x 21 columns]"
      ]
     },
     "execution_count": 36,
     "metadata": {},
     "output_type": "execute_result"
    }
   ],
   "source": [
    "data.head()"
   ]
  },
  {
   "cell_type": "code",
   "execution_count": 37,
   "id": "b0967f15",
   "metadata": {
    "ExecuteTime": {
     "end_time": "2022-02-15T23:28:46.644323Z",
     "start_time": "2022-02-15T23:28:46.628367Z"
    }
   },
   "outputs": [
    {
     "data": {
      "text/plain": [
       "Index(['id', 'date', 'price', 'bedrooms', 'bathrooms', 'sqft_living',\n",
       "       'sqft_lot', 'floors', 'waterfront', 'view', 'condition', 'grade',\n",
       "       'sqft_above', 'sqft_basement', 'yr_built', 'yr_renovated', 'zipcode',\n",
       "       'lat', 'long', 'sqft_living15', 'sqft_lot15'],\n",
       "      dtype='object')"
      ]
     },
     "execution_count": 37,
     "metadata": {},
     "output_type": "execute_result"
    }
   ],
   "source": [
    "data.columns"
   ]
  },
  {
   "cell_type": "code",
   "execution_count": 38,
   "id": "8230316f",
   "metadata": {
    "ExecuteTime": {
     "end_time": "2022-02-15T23:28:49.212410Z",
     "start_time": "2022-02-15T23:28:49.196538Z"
    }
   },
   "outputs": [
    {
     "data": {
      "text/plain": [
       "(21613, 21)"
      ]
     },
     "execution_count": 38,
     "metadata": {},
     "output_type": "execute_result"
    }
   ],
   "source": [
    "data.shape"
   ]
  },
  {
   "cell_type": "code",
   "execution_count": 39,
   "id": "0bad6808",
   "metadata": {
    "ExecuteTime": {
     "end_time": "2022-02-15T23:28:49.666449Z",
     "start_time": "2022-02-15T23:28:49.652683Z"
    }
   },
   "outputs": [
    {
     "data": {
      "text/plain": [
       "id                 int64\n",
       "date              object\n",
       "price            float64\n",
       "bedrooms           int64\n",
       "bathrooms        float64\n",
       "sqft_living        int64\n",
       "sqft_lot           int64\n",
       "floors           float64\n",
       "waterfront         int64\n",
       "view               int64\n",
       "condition          int64\n",
       "grade              int64\n",
       "sqft_above       float64\n",
       "sqft_basement      int64\n",
       "yr_built           int64\n",
       "yr_renovated       int64\n",
       "zipcode            int64\n",
       "lat              float64\n",
       "long             float64\n",
       "sqft_living15      int64\n",
       "sqft_lot15         int64\n",
       "dtype: object"
      ]
     },
     "execution_count": 39,
     "metadata": {},
     "output_type": "execute_result"
    }
   ],
   "source": [
    "data.dtypes"
   ]
  },
  {
   "cell_type": "code",
   "execution_count": 40,
   "id": "3506f3a0",
   "metadata": {
    "ExecuteTime": {
     "end_time": "2022-02-15T23:28:51.895211Z",
     "start_time": "2022-02-15T23:28:51.876884Z"
    }
   },
   "outputs": [],
   "source": [
    "# converter a coluta data de object para date\n",
    "data['date'] = pd.to_datetime(data['date'])"
   ]
  },
  {
   "cell_type": "markdown",
   "id": "07ea425d",
   "metadata": {},
   "source": [
    "# 2.4 Limpeza de dados"
   ]
  },
  {
   "cell_type": "code",
   "execution_count": 41,
   "id": "6f68762f",
   "metadata": {
    "ExecuteTime": {
     "end_time": "2022-02-15T23:28:54.784604Z",
     "start_time": "2022-02-15T23:28:54.741722Z"
    }
   },
   "outputs": [
    {
     "data": {
      "text/html": [
       "<div>\n",
       "<style scoped>\n",
       "    .dataframe tbody tr th:only-of-type {\n",
       "        vertical-align: middle;\n",
       "    }\n",
       "\n",
       "    .dataframe tbody tr th {\n",
       "        vertical-align: top;\n",
       "    }\n",
       "\n",
       "    .dataframe thead th {\n",
       "        text-align: right;\n",
       "    }\n",
       "</style>\n",
       "<table border=\"1\" class=\"dataframe\">\n",
       "  <thead>\n",
       "    <tr style=\"text-align: right;\">\n",
       "      <th></th>\n",
       "      <th>id</th>\n",
       "      <th>date</th>\n",
       "      <th>price</th>\n",
       "      <th>bedrooms</th>\n",
       "      <th>bathrooms</th>\n",
       "      <th>sqft_living</th>\n",
       "      <th>sqft_lot</th>\n",
       "      <th>floors</th>\n",
       "      <th>waterfront</th>\n",
       "      <th>view</th>\n",
       "      <th>...</th>\n",
       "      <th>grade</th>\n",
       "      <th>sqft_above</th>\n",
       "      <th>sqft_basement</th>\n",
       "      <th>yr_built</th>\n",
       "      <th>yr_renovated</th>\n",
       "      <th>zipcode</th>\n",
       "      <th>lat</th>\n",
       "      <th>long</th>\n",
       "      <th>sqft_living15</th>\n",
       "      <th>sqft_lot15</th>\n",
       "    </tr>\n",
       "  </thead>\n",
       "  <tbody>\n",
       "    <tr>\n",
       "      <th>2497</th>\n",
       "      <td>1000102</td>\n",
       "      <td>2015-04-22</td>\n",
       "      <td>300000.0</td>\n",
       "      <td>6</td>\n",
       "      <td>3.00</td>\n",
       "      <td>2400</td>\n",
       "      <td>9373</td>\n",
       "      <td>2.0</td>\n",
       "      <td>0</td>\n",
       "      <td>0</td>\n",
       "      <td>...</td>\n",
       "      <td>7</td>\n",
       "      <td>2400.0</td>\n",
       "      <td>0</td>\n",
       "      <td>1991</td>\n",
       "      <td>0</td>\n",
       "      <td>98002</td>\n",
       "      <td>47.3262</td>\n",
       "      <td>-122.214</td>\n",
       "      <td>2060</td>\n",
       "      <td>7316</td>\n",
       "    </tr>\n",
       "    <tr>\n",
       "      <th>6735</th>\n",
       "      <td>1200019</td>\n",
       "      <td>2014-05-08</td>\n",
       "      <td>647500.0</td>\n",
       "      <td>4</td>\n",
       "      <td>1.75</td>\n",
       "      <td>2060</td>\n",
       "      <td>26036</td>\n",
       "      <td>1.0</td>\n",
       "      <td>0</td>\n",
       "      <td>0</td>\n",
       "      <td>...</td>\n",
       "      <td>8</td>\n",
       "      <td>1160.0</td>\n",
       "      <td>900</td>\n",
       "      <td>1947</td>\n",
       "      <td>0</td>\n",
       "      <td>98166</td>\n",
       "      <td>47.4444</td>\n",
       "      <td>-122.351</td>\n",
       "      <td>2590</td>\n",
       "      <td>21891</td>\n",
       "    </tr>\n",
       "    <tr>\n",
       "      <th>8411</th>\n",
       "      <td>1200021</td>\n",
       "      <td>2014-08-11</td>\n",
       "      <td>400000.0</td>\n",
       "      <td>3</td>\n",
       "      <td>1.00</td>\n",
       "      <td>1460</td>\n",
       "      <td>43000</td>\n",
       "      <td>1.0</td>\n",
       "      <td>0</td>\n",
       "      <td>0</td>\n",
       "      <td>...</td>\n",
       "      <td>7</td>\n",
       "      <td>1460.0</td>\n",
       "      <td>0</td>\n",
       "      <td>1952</td>\n",
       "      <td>0</td>\n",
       "      <td>98166</td>\n",
       "      <td>47.4434</td>\n",
       "      <td>-122.347</td>\n",
       "      <td>2250</td>\n",
       "      <td>20023</td>\n",
       "    </tr>\n",
       "    <tr>\n",
       "      <th>8809</th>\n",
       "      <td>2800031</td>\n",
       "      <td>2015-04-01</td>\n",
       "      <td>235000.0</td>\n",
       "      <td>3</td>\n",
       "      <td>1.00</td>\n",
       "      <td>1430</td>\n",
       "      <td>7599</td>\n",
       "      <td>1.5</td>\n",
       "      <td>0</td>\n",
       "      <td>0</td>\n",
       "      <td>...</td>\n",
       "      <td>6</td>\n",
       "      <td>1010.0</td>\n",
       "      <td>420</td>\n",
       "      <td>1930</td>\n",
       "      <td>0</td>\n",
       "      <td>98168</td>\n",
       "      <td>47.4783</td>\n",
       "      <td>-122.265</td>\n",
       "      <td>1290</td>\n",
       "      <td>10320</td>\n",
       "    </tr>\n",
       "    <tr>\n",
       "      <th>3557</th>\n",
       "      <td>3600057</td>\n",
       "      <td>2015-03-19</td>\n",
       "      <td>402500.0</td>\n",
       "      <td>4</td>\n",
       "      <td>2.00</td>\n",
       "      <td>1650</td>\n",
       "      <td>3504</td>\n",
       "      <td>1.0</td>\n",
       "      <td>0</td>\n",
       "      <td>0</td>\n",
       "      <td>...</td>\n",
       "      <td>7</td>\n",
       "      <td>760.0</td>\n",
       "      <td>890</td>\n",
       "      <td>1951</td>\n",
       "      <td>2013</td>\n",
       "      <td>98144</td>\n",
       "      <td>47.5803</td>\n",
       "      <td>-122.294</td>\n",
       "      <td>1480</td>\n",
       "      <td>3504</td>\n",
       "    </tr>\n",
       "  </tbody>\n",
       "</table>\n",
       "<p>5 rows × 21 columns</p>\n",
       "</div>"
      ],
      "text/plain": [
       "           id       date     price  bedrooms  bathrooms  sqft_living  \\\n",
       "2497  1000102 2015-04-22  300000.0         6       3.00         2400   \n",
       "6735  1200019 2014-05-08  647500.0         4       1.75         2060   \n",
       "8411  1200021 2014-08-11  400000.0         3       1.00         1460   \n",
       "8809  2800031 2015-04-01  235000.0         3       1.00         1430   \n",
       "3557  3600057 2015-03-19  402500.0         4       2.00         1650   \n",
       "\n",
       "      sqft_lot  floors  waterfront  view  ...  grade  sqft_above  \\\n",
       "2497      9373     2.0           0     0  ...      7      2400.0   \n",
       "6735     26036     1.0           0     0  ...      8      1160.0   \n",
       "8411     43000     1.0           0     0  ...      7      1460.0   \n",
       "8809      7599     1.5           0     0  ...      6      1010.0   \n",
       "3557      3504     1.0           0     0  ...      7       760.0   \n",
       "\n",
       "      sqft_basement  yr_built  yr_renovated  zipcode      lat     long  \\\n",
       "2497              0      1991             0    98002  47.3262 -122.214   \n",
       "6735            900      1947             0    98166  47.4444 -122.351   \n",
       "8411              0      1952             0    98166  47.4434 -122.347   \n",
       "8809            420      1930             0    98168  47.4783 -122.265   \n",
       "3557            890      1951          2013    98144  47.5803 -122.294   \n",
       "\n",
       "      sqft_living15  sqft_lot15  \n",
       "2497           2060        7316  \n",
       "6735           2590       21891  \n",
       "8411           2250       20023  \n",
       "8809           1290       10320  \n",
       "3557           1480        3504  \n",
       "\n",
       "[5 rows x 21 columns]"
      ]
     },
     "execution_count": 41,
     "metadata": {},
     "output_type": "execute_result"
    }
   ],
   "source": [
    "# Deletando os ID's repetidos, deixando o último cadastrado\n",
    "\n",
    "data = data.drop_duplicates(subset = ['id'], keep = 'last')\n",
    "\n",
    "data.sort_values('id').head(5)"
   ]
  },
  {
   "cell_type": "code",
   "execution_count": 42,
   "id": "48fc9f75",
   "metadata": {
    "ExecuteTime": {
     "end_time": "2022-02-15T23:28:56.522084Z",
     "start_time": "2022-02-15T23:28:56.500827Z"
    }
   },
   "outputs": [
    {
     "name": "stdout",
     "output_type": "stream",
     "text": [
      "Atributo: bedrooms - [3, 2, 4, 5, 1, 6, 7, 0, 8, 9, 11, 10, 33]\n",
      "Atributo: bathrooms - [1.0, 2.25, 3.0, 2.0, 4.5, 1.5, 2.5, 1.75, 2.75, 3.25, 4.0, 3.5, 0.75, 4.75, 5.0, 4.25, 3.75, 0.0, 1.25, 5.25, 6.0, 0.5, 5.5, 6.75, 5.75, 8.0, 7.5, 7.75, 6.25, 6.5]\n",
      "Atributo: floors - [1.0, 2.0, 1.5, 3.0, 2.5, 3.5]\n",
      "Atributo: waterfront - [0, 1]\n",
      "Atributo: view - [0, 3, 4, 2, 1]\n",
      "Atributo: condition - [3, 5, 4, 1, 2]\n",
      "Atributo: grade - [7, 6, 8, 11, 9, 5, 10, 12, 4, 3, 13, 1]\n"
     ]
    }
   ],
   "source": [
    "# Remoção de Outliers do nosso dataset\n",
    "\n",
    "unique = data[['bedrooms','bathrooms','floors','waterfront','view','condition','grade']]\n",
    "\n",
    "for i in unique:\n",
    "    print('Atributo: {} - {}'.format(i, data[i].unique().tolist()))       "
   ]
  },
  {
   "cell_type": "code",
   "execution_count": 43,
   "id": "b091f675",
   "metadata": {
    "ExecuteTime": {
     "end_time": "2022-02-15T23:28:58.985039Z",
     "start_time": "2022-02-15T23:28:58.972020Z"
    }
   },
   "outputs": [],
   "source": [
    "# na coluna bedrooms, tem uma linha que vamos afirmar como outlier por diferenciar muito do número menor que o dele\n",
    "\n",
    "data.drop(data.loc[data['bedrooms'] == 33].index, inplace=True)\n"
   ]
  },
  {
   "cell_type": "markdown",
   "id": "3f799299",
   "metadata": {},
   "source": [
    "# 3.0 Análise Exploratória dos dados"
   ]
  },
  {
   "cell_type": "markdown",
   "id": "b0576a39",
   "metadata": {},
   "source": [
    "## 3.1 Novas colunas"
   ]
  },
  {
   "cell_type": "code",
   "execution_count": 44,
   "id": "ac2cf16c",
   "metadata": {
    "ExecuteTime": {
     "end_time": "2022-02-15T23:29:00.936433Z",
     "start_time": "2022-02-15T23:29:00.876470Z"
    }
   },
   "outputs": [],
   "source": [
    "# Antes de tudo, irei adicionar algumas colunas com métricas estabelecidas para a análise dos dados\n",
    "\n",
    "# fazendo uma copia do dataset, para não comprometer os dados originais\n",
    "df = data.copy()\n",
    "\n",
    "# coluna criada para análisar a H2. \n",
    "\n",
    "df['yr_old'] = df['yr_built'].apply(lambda x: '> 1955' if x > 1955\n",
    "        else '< 1955')\n",
    "\n",
    "# coluna criada para analisar a h3\n",
    "      \n",
    "df['basement'] = df['sqft_basement'].apply(lambda x: 'no' if x == 0\n",
    "        else 'yes')      \n",
    "\n",
    "# coluna criada para analisar a h4\n",
    "\n",
    "df['year'] = pd.to_datetime(df['date']).dt.year\n",
    "\n",
    "# coluna criada para analisar a h5\n",
    "\n",
    "df['describe_bathrooms'] = df['bathrooms'].apply(lambda x: '> 3' if x >= 3.0\n",
    "                                            else '< 3')\n",
    "\n",
    "\n",
    "# Uma métrica estabelecida é visualizar a variação de preço pela sazonalidade, por isso iremos criar uma coluna com esse dado\n",
    "\n",
    "df['month'] = pd.to_datetime(df['date']).dt.month\n",
    "df['season'] = df['month'].apply(lambda x: 'summer' if (x > 5) & (x < 8) else\n",
    "                                           'spring' if (x > 2) & (x < 5) else\n",
    "                                           'fall' if (x > 8) & (x < 12) else\n",
    "                                           'winter')\n",
    "\n",
    "df['condition_name'] = df['condition'].apply(lambda x:   'péssimo' if x == 1 else\n",
    "                                                         'ruim' if x == 2 else\n",
    "                                                         'medio'if x == 3 else\n",
    "                                                         'muito bom' if x == 4 else\n",
    "                                                         'perfeito')"
   ]
  },
  {
   "cell_type": "markdown",
   "id": "ad7357d1",
   "metadata": {},
   "source": [
    "## 3.2 Hipóteses"
   ]
  },
  {
   "cell_type": "markdown",
   "id": "c11ff2f4",
   "metadata": {},
   "source": [
    "Irei análisar as 5 hipóteses abaixo e avaliar em verdadeiras ou falsas:\n",
    "\n",
    "H1: Imóveis que possuem vista para água, são 30% mais caros, na média. \n",
    "\n",
    "H2: Imóveis com data de construção menor que 1955, são 50% mais baratos, na média.\n",
    "#separar o dataset entre imóveis menores que 1955 e maior que 1955, tirar a média dos dois grupos e ver a diferença\n",
    "\n",
    "H3: Imóveis sem porão possuem área total (sqrt_lot), são 40% maiores do que os imóveis com porão.\n",
    "\n",
    "H4: O crescimento do preço dos imóveis YoY ( Year over Year) é de 10%.\n",
    "\n",
    "H5: Quanto maior o número de banheiros, maior será o preço"
   ]
  },
  {
   "cell_type": "markdown",
   "id": "95df3cc0",
   "metadata": {},
   "source": [
    " ### H1 . Imóveis que possuem vista para água, são 30% mais caros, na média.\n",
    "\n",
    " Para analisar essa hipótese, irei agrupar os preços dos imóveis com vista para água e sem, depois irei plotar em barras para analisarmos o resultado"
   ]
  },
  {
   "cell_type": "code",
   "execution_count": 45,
   "id": "95febd15",
   "metadata": {
    "ExecuteTime": {
     "end_time": "2022-02-15T23:29:03.888550Z",
     "start_time": "2022-02-15T23:29:03.763950Z"
    },
    "code_folding": [],
    "scrolled": true
   },
   "outputs": [
    {
     "data": {
      "text/plain": [
       "<AxesSubplot:xlabel='waterfront', ylabel='price'>"
      ]
     },
     "execution_count": 45,
     "metadata": {},
     "output_type": "execute_result"
    },
    {
     "data": {
      "image/png": "[encoded data removed]",
      "text/plain": [
       "<Figure size 720x432 with 1 Axes>"
      ]
     },
     "metadata": {
      "needs_background": "light"
     },
     "output_type": "display_data"
    }
   ],
   "source": [
    "h1 = df[['price','waterfront']].groupby('waterfront').mean().reset_index()\n",
    "plt.figure(figsize=(10,6))\n",
    "sns.barplot(x = h1['waterfront'],y = h1['price'])"
   ]
  },
  {
   "cell_type": "code",
   "execution_count": 46,
   "id": "b4b5ff78",
   "metadata": {
    "ExecuteTime": {
     "end_time": "2022-02-15T23:29:05.973084Z",
     "start_time": "2022-02-15T23:29:05.963074Z"
    }
   },
   "outputs": [
    {
     "name": "stdout",
     "output_type": "stream",
     "text": [
      "H1 é verdadeira. Os imóveis com vista pra agua são na média 212% mais caros\n"
     ]
    }
   ],
   "source": [
    "h1_percent = (h1.loc[1,'price'] - h1.loc[0,'price']) / h1.loc[0,'price']\n",
    "print('H1 é verdadeira. Os imóveis com vista pra agua são na média {0:.0%} mais caros'.format(h1_percent))"
   ]
  },
  {
   "cell_type": "markdown",
   "id": "98b34edf",
   "metadata": {},
   "source": [
    "### H2. Móveis com data de construção menor que 1955, são 50% mais baratos, na média.\n",
    " separar o dataset entre imóveis menores que 1955 e maior que 1955, tirar a média dos dois grupos e ver a diferença\n"
   ]
  },
  {
   "cell_type": "code",
   "execution_count": 47,
   "id": "368104eb",
   "metadata": {
    "ExecuteTime": {
     "end_time": "2022-02-15T23:29:08.322865Z",
     "start_time": "2022-02-15T23:29:08.212997Z"
    },
    "scrolled": true
   },
   "outputs": [
    {
     "data": {
      "image/png": "[encoded data removed]",
      "text/plain": [
       "<Figure size 720x432 with 1 Axes>"
      ]
     },
     "metadata": {
      "needs_background": "light"
     },
     "output_type": "display_data"
    }
   ],
   "source": [
    "\n",
    "h2 = df[['price','yr_old']].groupby('yr_old').mean().reset_index()\n",
    "plt.figure(figsize=(10,6))\n",
    "sns.barplot(x = h2['yr_old'],y = h2['price'])\n",
    "\n",
    "h2_percent = (h2.loc[1,'price'] - h2.loc[0,'price']) / h2.loc[1,'price']"
   ]
  },
  {
   "cell_type": "code",
   "execution_count": 48,
   "id": "6b76bb49",
   "metadata": {
    "ExecuteTime": {
     "end_time": "2022-02-15T23:29:11.370649Z",
     "start_time": "2022-02-15T23:29:11.355656Z"
    }
   },
   "outputs": [
    {
     "name": "stdout",
     "output_type": "stream",
     "text": [
      "H2 é falsa, a média de preço é irrelevante. Os imóveis construídos antes de 1955, são em média apenas 1% mais baratos\n"
     ]
    }
   ],
   "source": [
    "h2_percent = (h2.loc[1,'price'] - h2.loc[0,'price']) / h2.loc[1,'price']\n",
    "print('H2 é falsa, a média de preço é irrelevante. Os imóveis construídos antes de 1955, são em média apenas {0:.0%} mais baratos'.format(h2_percent))"
   ]
  },
  {
   "cell_type": "markdown",
   "id": "b96482a0",
   "metadata": {},
   "source": [
    "### H3: Imóveis sem porão possuem área total, são 40% maiores do que os imóveis com porão.\n",
    "\n",
    "Para análisar essa hipótese, criei uma coluna para converter os valores númericos da coluna sqft_basement para númericos\n",
    "\n",
    "Após isso agrupei entre as duas afirmações e criei uma variável onde se calcula a diferença em porcentagem.\n"
   ]
  },
  {
   "cell_type": "code",
   "execution_count": 49,
   "id": "b462210a",
   "metadata": {
    "ExecuteTime": {
     "end_time": "2022-02-15T23:29:15.322019Z",
     "start_time": "2022-02-15T23:29:15.147372Z"
    }
   },
   "outputs": [
    {
     "data": {
      "text/plain": [
       "<AxesSubplot:xlabel='basement', ylabel='sqft_lot'>"
      ]
     },
     "execution_count": 49,
     "metadata": {},
     "output_type": "execute_result"
    },
    {
     "data": {
      "image/png": "[encoded data removed]",
      "text/plain": [
       "<Figure size 720x432 with 1 Axes>"
      ]
     },
     "metadata": {
      "needs_background": "light"
     },
     "output_type": "display_data"
    }
   ],
   "source": [
    "h3 = df[['sqft_lot','basement']].groupby('basement').mean().reset_index()\n",
    "\n",
    "plt.figure(figsize=(10,6))\n",
    "sns.barplot(x = h3['basement'],y = h3['sqft_lot'])"
   ]
  },
  {
   "cell_type": "code",
   "execution_count": 50,
   "id": "e18ebea3",
   "metadata": {
    "ExecuteTime": {
     "end_time": "2022-02-15T23:29:17.887061Z",
     "start_time": "2022-02-15T23:29:17.876929Z"
    }
   },
   "outputs": [
    {
     "name": "stdout",
     "output_type": "stream",
     "text": [
      "H3 é verdadeira. Os imóveis sem porão possuem área do lote 23% maior. Apesar de não ser 40%, iremos considerar como verdadeiro pois a diferença é significativa e dá para usar como métrica na definição de preço para revenda\n"
     ]
    }
   ],
   "source": [
    "h3_percent = (h3.loc[0,'sqft_lot'] - h3.loc[1,'sqft_lot']) / h3.loc[1,'sqft_lot']\n",
    "print('H3 é verdadeira. Os imóveis sem porão possuem área do lote {0:.0%} maior. Apesar de não ser 40%, iremos considerar como verdadeiro pois a diferença é significativa e dá para usar como métrica na definição de preço para revenda'.format(h3_percent))"
   ]
  },
  {
   "cell_type": "markdown",
   "id": "faf612dd",
   "metadata": {},
   "source": [
    "### H4  O crescimento do preço dos imóveis YoY ( Year over Year) é de 10%."
   ]
  },
  {
   "cell_type": "markdown",
   "id": "ff9cdd2d",
   "metadata": {},
   "source": [
    "criei uma coluna filtrando a data de venda apenas com o seu ano. Abaixo irei fazer um groupby e depois uma função com a porcentagem da diferença"
   ]
  },
  {
   "cell_type": "code",
   "execution_count": 51,
   "id": "b8c525d3",
   "metadata": {
    "ExecuteTime": {
     "end_time": "2022-02-15T23:29:21.373403Z",
     "start_time": "2022-02-15T23:29:21.244281Z"
    }
   },
   "outputs": [
    {
     "data": {
      "text/plain": [
       "<AxesSubplot:xlabel='year', ylabel='price'>"
      ]
     },
     "execution_count": 51,
     "metadata": {},
     "output_type": "execute_result"
    },
    {
     "data": {
      "image/png": "[encoded data removed]",
      "text/plain": [
       "<Figure size 720x432 with 1 Axes>"
      ]
     },
     "metadata": {
      "needs_background": "light"
     },
     "output_type": "display_data"
    }
   ],
   "source": [
    "h4 = df[['price','year']].groupby('year').mean().reset_index()\n",
    "plt.figure(figsize=(10,6))\n",
    "sns.lineplot(x = h4['year'],y = h4['price'])\n"
   ]
  },
  {
   "cell_type": "code",
   "execution_count": 52,
   "id": "ed62557d",
   "metadata": {
    "ExecuteTime": {
     "end_time": "2022-02-15T23:29:23.284737Z",
     "start_time": "2022-02-15T23:29:23.267857Z"
    }
   },
   "outputs": [
    {
     "name": "stdout",
     "output_type": "stream",
     "text": [
      "H4 é falsa, pois o crescimento do preço entre os anos foi de 0%\n"
     ]
    }
   ],
   "source": [
    "h4_percent = (h4.loc[1,'price'] - h4.loc[0,'price']) / h4.loc[0,'price']\n",
    "print('H4 é falsa, pois o crescimento do preço entre os anos foi de {0:.0%}'.format(h4_percent))"
   ]
  },
  {
   "cell_type": "markdown",
   "id": "711d0da0",
   "metadata": {},
   "source": [
    "# H5: Quanto maior o número de banheiros, maior será o preço"
   ]
  },
  {
   "cell_type": "code",
   "execution_count": 53,
   "id": "013cba6b",
   "metadata": {
    "ExecuteTime": {
     "end_time": "2022-02-15T23:29:25.066445Z",
     "start_time": "2022-02-15T23:29:24.796963Z"
    }
   },
   "outputs": [
    {
     "name": "stderr",
     "output_type": "stream",
     "text": [
      "C:\\Users\\Agilize\\anaconda3\\lib\\site-packages\\seaborn\\_decorators.py:36: FutureWarning: Pass the following variable as a keyword arg: x. From version 0.12, the only valid positional argument will be `data`, and passing other arguments without an explicit keyword will result in an error or misinterpretation.\n",
      "  warnings.warn(\n"
     ]
    },
    {
     "data": {
      "image/png": "[encoded data removed]",
      "text/plain": [
       "<Figure size 720x432 with 1 Axes>"
      ]
     },
     "metadata": {
      "needs_background": "light"
     },
     "output_type": "display_data"
    }
   ],
   "source": [
    "h5 = df[['price', 'bathrooms']].groupby('bathrooms').mean().reset_index()\n",
    "\n",
    "plt.figure(figsize=(10,6))\n",
    "sns.barplot(h5['bathrooms'], y = h5['price'])\n",
    "plt.xticks( rotation=60 );"
   ]
  },
  {
   "cell_type": "code",
   "execution_count": 54,
   "id": "d1e6ff00",
   "metadata": {
    "ExecuteTime": {
     "end_time": "2022-02-15T23:29:28.828043Z",
     "start_time": "2022-02-15T23:29:28.820066Z"
    }
   },
   "outputs": [
    {
     "name": "stdout",
     "output_type": "stream",
     "text": [
      "H5 é verdadeira. Segundo o gráfico, o preço aumenta conforme o número de banheiros aumenta. Podemos ver que certos imóveis com 6 e 7 banheiros estão baratos. Podemos análisar as condições desse imóvel e aumentar o preço de revenda conforme.\n"
     ]
    }
   ],
   "source": [
    "\n",
    "print('H5 é verdadeira. Segundo o gráfico, o preço aumenta conforme o número de banheiros aumenta. Podemos ver que certos imóveis com 6 e 7 banheiros estão baratos. Podemos análisar as condições desse imóvel e aumentar o preço de revenda conforme.')"
   ]
  },
  {
   "cell_type": "markdown",
   "id": "6b4bc94d",
   "metadata": {},
   "source": [
    "# 4.0. Questões de negócio"
   ]
  },
  {
   "cell_type": "markdown",
   "id": "6d51c6d9",
   "metadata": {},
   "source": [
    "## 4.1. Quais são os imóveis que a House Rocket deveria comprar?"
   ]
  },
  {
   "cell_type": "code",
   "execution_count": 55,
   "id": "bd85b885",
   "metadata": {
    "ExecuteTime": {
     "end_time": "2022-02-15T23:29:48.417148Z",
     "start_time": "2022-02-15T23:29:38.596300Z"
    }
   },
   "outputs": [],
   "source": [
    "#Agrupar os imóveis por zipcode\n",
    "df1 = data[['zipcode','price']].groupby('zipcode').median().reset_index()\n",
    "\n",
    "#renomear a coluna price criada em df1 como price_median\n",
    "df1 = df1.rename(columns={'price': 'price_median'})\n",
    "\n",
    "#adicionar essa coluna ao dataset original\n",
    "df = pd.merge(df1,df,on='zipcode',how='inner')\n",
    "\n",
    "#criar uma coluna com a orientação se compra ou não compra os imóveis, seguindo as duas condições:\n",
    "\n",
    "# 1. Se o preço do imóvel estiver com o valor menor que o preço médio daquela região\n",
    "# 2. Se a condição do imóvel estiver no mínimo médio\n",
    "\n",
    "for i in range(len(df)):\n",
    "    \n",
    "    #1\n",
    "    if (df.loc[i,'price'] < df.loc[i,'price_median']) & (df.loc[i,'condition'] >= 3):\n",
    "        df.loc[i,'status'] = 'compra'\n",
    "    #2\n",
    "    else:\n",
    "        df.loc[i,'status'] = 'não compra'\n"
   ]
  },
  {
   "cell_type": "code",
   "execution_count": 63,
   "id": "6c5a2da5",
   "metadata": {
    "ExecuteTime": {
     "end_time": "2022-02-15T23:40:28.420278Z",
     "start_time": "2022-02-15T23:40:28.387280Z"
    }
   },
   "outputs": [
    {
     "name": "stdout",
     "output_type": "stream",
     "text": [
      " 10505 imóveis são sugeridos para compra\n"
     ]
    }
   ],
   "source": [
    "# criar relatório com apenas as colunas de interesse, ordenando do menor preço para o maior, considerando as melhores condições de imóveis \n",
    "\n",
    "houses_to_buy = df[df['status'] == 'compra'].sort_values(by=['condition_name','price'])\n",
    "\n",
    "print(' {} imóveis são sugeridos para compra'.format(len(houses_to_buy)))"
   ]
  },
  {
   "cell_type": "markdown",
   "id": "c621facd",
   "metadata": {},
   "source": [
    "## 4.2. Uma vez a casa comprada, qual o melhor momento para vendê-las e por qual preço?"
   ]
  },
  {
   "cell_type": "code",
   "execution_count": 68,
   "id": "e27f6f5d",
   "metadata": {
    "ExecuteTime": {
     "end_time": "2022-02-15T23:55:02.334646Z",
     "start_time": "2022-02-15T23:55:02.291637Z"
    }
   },
   "outputs": [],
   "source": [
    "# Para análisar essa questão, iremos levar em consideração a sazonalidade. Criei uma variável que define todas as estações do ano.\n",
    "\n",
    "# achar o preço médio de cada zipcode em diferentes sazonalidades\n",
    "df2 = df[['zipcode','season','price']].groupby(['zipcode','season']).median().reset_index()\n",
    "\n",
    "#renomear coluna para combinar com o dataset original\n",
    "df2 = df2.rename(columns = {'price': 'price_median_season'})\n",
    "\n",
    "#juntar ao dataset original e filtrar apenas as casas aptas para compra\n",
    "df3= pd.merge(houses_to_buy,df2, how='inner', on=['zipcode','season'])"
   ]
  },
  {
   "cell_type": "code",
   "execution_count": 70,
   "id": "f56f6c31",
   "metadata": {
    "ExecuteTime": {
     "end_time": "2022-02-16T00:04:04.513355Z",
     "start_time": "2022-02-16T00:04:01.770475Z"
    },
    "code_folding": []
   },
   "outputs": [],
   "source": [
    "# Se o preço da compra for maior que a mediana da regição + sazonalidade. O preço da venda será igual ao preço da compra +10%\n",
    "\n",
    "# Se o preço da compra for menor que a mediana da regição + sazonalidade. O preço da venda será igual ao preço da compra +30%\n",
    "\n",
    "for i in range(len(df3)):\n",
    "    \n",
    "            if df3.loc[i, 'price'] <= df3.loc[i, 'price_median_season']:\n",
    "                 df3.loc[i, 'sale_price'] = df3.loc[i, 'price'] * 1.30\n",
    "            elif df3.loc[i, 'price'] > df3.loc[i, 'price_median_season']:\n",
    "                 df3.loc[i, 'sale_price'] = df3.loc[i, 'price'] * 1.10\n",
    "            else:\n",
    "                 pass\n",
    "                \n",
    "df3['profit'] = df3['sale_price'] - df3['price']\n"
   ]
  },
  {
   "cell_type": "code",
   "execution_count": 79,
   "id": "b49f44dc",
   "metadata": {
    "ExecuteTime": {
     "end_time": "2022-02-16T00:29:16.000715Z",
     "start_time": "2022-02-16T00:29:15.964212Z"
    }
   },
   "outputs": [
    {
     "data": {
      "text/html": [
       "<div>\n",
       "<style scoped>\n",
       "    .dataframe tbody tr th:only-of-type {\n",
       "        vertical-align: middle;\n",
       "    }\n",
       "\n",
       "    .dataframe tbody tr th {\n",
       "        vertical-align: top;\n",
       "    }\n",
       "\n",
       "    .dataframe thead th {\n",
       "        text-align: right;\n",
       "    }\n",
       "</style>\n",
       "<table border=\"1\" class=\"dataframe\">\n",
       "  <thead>\n",
       "    <tr style=\"text-align: right;\">\n",
       "      <th></th>\n",
       "      <th>id</th>\n",
       "      <th>zipcode</th>\n",
       "      <th>price</th>\n",
       "      <th>price_median</th>\n",
       "      <th>season</th>\n",
       "      <th>price_median_season</th>\n",
       "      <th>condition_name</th>\n",
       "      <th>sale_price</th>\n",
       "      <th>profit</th>\n",
       "    </tr>\n",
       "  </thead>\n",
       "  <tbody>\n",
       "    <tr>\n",
       "      <th>10504</th>\n",
       "      <td>6447300225</td>\n",
       "      <td>98039</td>\n",
       "      <td>1880000.0</td>\n",
       "      <td>1905000.0</td>\n",
       "      <td>fall</td>\n",
       "      <td>2475000.0</td>\n",
       "      <td>muito bom</td>\n",
       "      <td>2444000.0</td>\n",
       "      <td>564000.0</td>\n",
       "    </tr>\n",
       "    <tr>\n",
       "      <th>10488</th>\n",
       "      <td>2470200020</td>\n",
       "      <td>98039</td>\n",
       "      <td>1880000.0</td>\n",
       "      <td>1905000.0</td>\n",
       "      <td>winter</td>\n",
       "      <td>1892500.0</td>\n",
       "      <td>muito bom</td>\n",
       "      <td>2444000.0</td>\n",
       "      <td>564000.0</td>\n",
       "    </tr>\n",
       "    <tr>\n",
       "      <th>10485</th>\n",
       "      <td>3262300818</td>\n",
       "      <td>98039</td>\n",
       "      <td>1865000.0</td>\n",
       "      <td>1905000.0</td>\n",
       "      <td>winter</td>\n",
       "      <td>1892500.0</td>\n",
       "      <td>medio</td>\n",
       "      <td>2424500.0</td>\n",
       "      <td>559500.0</td>\n",
       "    </tr>\n",
       "    <tr>\n",
       "      <th>10484</th>\n",
       "      <td>5425700205</td>\n",
       "      <td>98039</td>\n",
       "      <td>1800000.0</td>\n",
       "      <td>1905000.0</td>\n",
       "      <td>winter</td>\n",
       "      <td>1892500.0</td>\n",
       "      <td>medio</td>\n",
       "      <td>2340000.0</td>\n",
       "      <td>540000.0</td>\n",
       "    </tr>\n",
       "    <tr>\n",
       "      <th>10483</th>\n",
       "      <td>2525049266</td>\n",
       "      <td>98039</td>\n",
       "      <td>1762000.0</td>\n",
       "      <td>1905000.0</td>\n",
       "      <td>winter</td>\n",
       "      <td>1892500.0</td>\n",
       "      <td>medio</td>\n",
       "      <td>2290600.0</td>\n",
       "      <td>528600.0</td>\n",
       "    </tr>\n",
       "  </tbody>\n",
       "</table>\n",
       "</div>"
      ],
      "text/plain": [
       "               id  zipcode      price  price_median  season  \\\n",
       "10504  6447300225    98039  1880000.0     1905000.0    fall   \n",
       "10488  2470200020    98039  1880000.0     1905000.0  winter   \n",
       "10485  3262300818    98039  1865000.0     1905000.0  winter   \n",
       "10484  5425700205    98039  1800000.0     1905000.0  winter   \n",
       "10483  2525049266    98039  1762000.0     1905000.0  winter   \n",
       "\n",
       "       price_median_season condition_name  sale_price    profit  \n",
       "10504            2475000.0      muito bom   2444000.0  564000.0  \n",
       "10488            1892500.0      muito bom   2444000.0  564000.0  \n",
       "10485            1892500.0          medio   2424500.0  559500.0  \n",
       "10484            1892500.0          medio   2340000.0  540000.0  \n",
       "10483            1892500.0          medio   2290600.0  528600.0  "
      ]
     },
     "execution_count": 79,
     "metadata": {},
     "output_type": "execute_result"
    }
   ],
   "source": [
    "# Os 5 imóveis que dão maior lucro\n",
    "\n",
    "df3[['id','zipcode','price','price_median','season','price_median_season','condition_name','sale_price','profit']].sort_values(by='profit',ascending = False).head()\n"
   ]
  },
  {
   "cell_type": "code",
   "execution_count": 80,
   "id": "d8ddcc01",
   "metadata": {
    "ExecuteTime": {
     "end_time": "2022-02-16T00:30:15.530874Z",
     "start_time": "2022-02-16T00:30:15.506913Z"
    }
   },
   "outputs": [
    {
     "data": {
      "text/plain": [
       "1186638788.2"
      ]
     },
     "execution_count": 80,
     "metadata": {},
     "output_type": "execute_result"
    }
   ],
   "source": [
    "# Total de lucro que a empresa irá ter, caso siga a sugestão\n",
    "\n",
    "df3['profit'].sum()"
   ]
  },
  {
   "cell_type": "code",
   "execution_count": null,
   "id": "a5603073",
   "metadata": {},
   "outputs": [],
   "source": []
  }
 ],
 "metadata": {
  "hide_input": false,
  "kernelspec": {
   "display_name": "Python 3 (ipykernel)",
   "language": "python",
   "name": "python3"
  },
  "language_info": {
   "codemirror_mode": {
    "name": "ipython",
    "version": 3
   },
   "file_extension": ".py",
   "mimetype": "text/x-python",
   "name": "python",
   "nbconvert_exporter": "python",
   "pygments_lexer": "ipython3",
   "version": "3.9.7"
  },
  "varInspector": {
   "cols": {
    "lenName": 16,
    "lenType": 16,
    "lenVar": 40
   },
   "kernels_config": {
    "python": {
     "delete_cmd_postfix": "",
     "delete_cmd_prefix": "del ",
     "library": "var_list.py",
     "varRefreshCmd": "print(var_dic_list())"
    },
    "r": {
     "delete_cmd_postfix": ") ",
     "delete_cmd_prefix": "rm(",
     "library": "var_list.r",
     "varRefreshCmd": "cat(var_dic_list()) "
    }
   },
   "types_to_exclude": [
    "module",
    "function",
    "builtin_function_or_method",
    "instance",
    "_Feature"
   ],
   "window_display": false
  }
 },
 "nbformat": 4,
 "nbformat_minor": 5
}
